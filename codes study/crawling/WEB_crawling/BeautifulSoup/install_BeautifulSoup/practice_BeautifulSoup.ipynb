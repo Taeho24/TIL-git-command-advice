{
 "cells": [
  {
   "cell_type": "code",
   "execution_count": null,
   "id": "165717ea",
   "metadata": {},
   "outputs": [],
   "source": [
    "print(soup.prettify())"
   ]
  },
  {
   "cell_type": "code",
   "execution_count": null,
   "id": "65522dfa",
   "metadata": {
    "vscode": {
     "languageId": "html"
    }
   },
   "outputs": [],
   "source": [
    "<h1 id=\"title\">\n",
    "    한빛출판네트워크\n",
    "</h1>\n",
    "<div class=\"top\">\n",
    "    <ul class=\"menu\">\n",
    "        <li>\n",
    "            <a class=\"login\" href=\"http://www.hanbit.co.kr/member/login.html\">\n",
    "            로그인\n",
    "            </a>\n",
    "        </li>\n",
    "    </ul>\n",
    "    <ul class=\"brand\">\n",
    "        <li>\n",
    "            <a href=\"http://www.hanbit.co.kr/media/\">\n",
    "            한빛미디어\n",
    "            </a>\n",
    "        </li>\n",
    "        <li>\n",
    "            <a href=\"http://www.hanbit.co.kr/academy/\">\n",
    "            한빛아카데미\n",
    "            </a>\n",
    "        </li>\n",
    "    </ul>\n",
    "</div>\n"
   ]
  },
  {
   "cell_type": "markdown",
   "id": "b7562752",
   "metadata": {},
   "source": [
    "## 1. 태그 파싱하기 - 지정된 한 개의 태그만 파싱"
   ]
  },
  {
   "cell_type": "code",
   "execution_count": null,
   "id": "e2cdd58d",
   "metadata": {},
   "outputs": [],
   "source": [
    "tag_h1 = soup.h1\n",
    "tag_h1 # soup.h1"
   ]
  },
  {
   "cell_type": "code",
   "execution_count": null,
   "id": "7ff4b735",
   "metadata": {
    "vscode": {
     "languageId": "html"
    }
   },
   "outputs": [],
   "source": [
    "<h1 id=\"title\">한빛출판네트워크</h1>"
   ]
  },
  {
   "cell_type": "code",
   "execution_count": null,
   "id": "4f2c2c8a",
   "metadata": {},
   "outputs": [],
   "source": [
    "tag_div = soup.div\n",
    "tag_div"
   ]
  },
  {
   "cell_type": "code",
   "execution_count": null,
   "id": "75c09bff",
   "metadata": {
    "vscode": {
     "languageId": "html"
    }
   },
   "outputs": [],
   "source": [
    "<div class=\"top\"><ul class=\"menu\"><li><a class=\"login\" href=\"http://www.\n",
    "hanbit.co.kr/member/login.html\">로그인</a></li></ul><ul class=\"brand\"><li><a\n",
    "href=\"http://www.hanbit.co.kr/media/\">한빛미디어</a></li><li><a href=\"http://www.\n",
    "hanbit.co.kr/academy/\">한빛아카데미</a></li></ul></div>"
   ]
  },
  {
   "cell_type": "code",
   "execution_count": null,
   "id": "9dbd3366",
   "metadata": {},
   "outputs": [],
   "source": [
    "tag_ul = soup.ul\n",
    "tag_ul"
   ]
  },
  {
   "cell_type": "markdown",
   "id": "c6e58f6d",
   "metadata": {},
   "source": [
    "<ul class=\"menu\"><li><a class=\"login\" href=\"http://www.hanbit.co.kr/member/\n",
    "login.html\">로그인</a></li></ul>"
   ]
  },
  {
   "cell_type": "code",
   "execution_count": null,
   "id": "a7c91d54",
   "metadata": {},
   "outputs": [],
   "source": [
    "tag_li = soup.li\n",
    "tag_li"
   ]
  },
  {
   "cell_type": "markdown",
   "id": "7b433944",
   "metadata": {},
   "source": [
    "<li><a class=\"login\" href=\"http://www.hanbit.co.kr/member/\n",
    "login.html\">로그인</a></li>"
   ]
  },
  {
   "cell_type": "code",
   "execution_count": null,
   "id": "b0058e64",
   "metadata": {},
   "outputs": [],
   "source": [
    "tag_a = soup.a\n",
    "tag_a"
   ]
  },
  {
   "cell_type": "markdown",
   "id": "4af9c0e5",
   "metadata": {},
   "source": [
    "<a class=\"login\" href=\"http://www.hanbit.co.kr/member/\n",
    "login.html\">로그인</a>"
   ]
  },
  {
   "cell_type": "markdown",
   "id": "1cb701c1",
   "metadata": {},
   "source": [
    "## 2. 태그 파싱하기 - 지정된 태그를 모두 파싱"
   ]
  },
  {
   "cell_type": "code",
   "execution_count": null,
   "id": "afd260f6",
   "metadata": {},
   "outputs": [],
   "source": [
    "tag_ul_all = soup.find_all(\"ul\")\n",
    "tag_ul_all"
   ]
  },
  {
   "cell_type": "markdown",
   "id": "576b234e",
   "metadata": {
    "vscode": {
     "languageId": "html"
    }
   },
   "source": [
    "[<ul class=\"menu\"><li><a class=\"login\" href=\"http://www.hanbit.co.kr/member/login.html\">로그인\n",
    "</a></li></ul>,<ul class=\"brand\"><li><a href=\"http://www.hanbit.co.kr/media/\">한빛미디어</a></li><li><a \n",
    "href=\"http://www.hanbit.co.kr/academy/\">한빛아카데미</a></li></ul>]"
   ]
  },
  {
   "cell_type": "code",
   "execution_count": null,
   "id": "05372e2b",
   "metadata": {},
   "outputs": [],
   "source": [
    "tag_li_all = soup.find_all(\"li\")\n",
    "tag_li_all\n"
   ]
  },
  {
   "cell_type": "markdown",
   "id": "c71c08b3",
   "metadata": {},
   "source": [
    "[<li><a class=\"login\" href=\"http://www.hanbit.co.kr/member/login.html\">로그인</a></li>,<li><a \n",
    "href=\"http://www.hanbit.co.kr/media/\">한빛미디어</a></li>,<li><a href=\"http://www.hanbit.co.kr/academy/\">\n",
    "한빛아카데미</a></li>]"
   ]
  },
  {
   "cell_type": "code",
   "execution_count": null,
   "id": "055a0437",
   "metadata": {},
   "outputs": [],
   "source": [
    "tag_a_all = soup.find_all(\"a\")\n",
    "tag_a_all \n",
    "# 최신 BS에서는 ResultSet을 일반 리스트로 변환 후 출력\n",
    "# print(list(tag_a_all))"
   ]
  },
  {
   "cell_type": "markdown",
   "id": "2a480a73",
   "metadata": {},
   "source": [
    "[<a class=\"login\" href=\"http://www.hanbit.co.kr/member/login.html\">로그인</a>,<a \n",
    "href=\"http://www.hanbit.co.kr/media/\">한빛미디어</a>,<a href=\"http://www.hanbit.co.kr/academy/\">한빛아카데\n",
    "미</a>]"
   ]
  },
  {
   "cell_type": "markdown",
   "id": "2301412d",
   "metadata": {},
   "source": [
    "## 3. 속성을 이용하여 파싱"
   ]
  },
  {
   "cell_type": "code",
   "execution_count": null,
   "id": "2c968933",
   "metadata": {},
   "outputs": [],
   "source": [
    "tag_a.attrs # 속성 이름과 속성값으로 딕셔너리 구성"
   ]
  },
  {
   "cell_type": "markdown",
   "id": "efa42183",
   "metadata": {},
   "source": [
    "{'href': 'http://www.hanbit.co.kr/member/login.html', 'class': ['login']}"
   ]
  },
  {
   "cell_type": "code",
   "execution_count": null,
   "id": "61a991cb",
   "metadata": {},
   "outputs": [],
   "source": [
    "tag_a['href']"
   ]
  },
  {
   "cell_type": "markdown",
   "id": "61d40f54",
   "metadata": {},
   "source": [
    "'http://www.hanbit.co.kr/member/login.html'"
   ]
  },
  {
   "cell_type": "code",
   "execution_count": null,
   "id": "047e1b65",
   "metadata": {},
   "outputs": [],
   "source": [
    "tag_a['class']"
   ]
  },
  {
   "cell_type": "markdown",
   "id": "a7c9990d",
   "metadata": {},
   "source": [
    "['login']"
   ]
  },
  {
   "cell_type": "code",
   "execution_count": null,
   "id": "79f94ae2",
   "metadata": {},
   "outputs": [],
   "source": [
    "tag_ul_2 = soup.find('ul', attrs={'class':'brand'})\n",
    "tag_ul_2 # 속성을 이용하여 특정 태그 파싱"
   ]
  },
  {
   "cell_type": "markdown",
   "id": "042d41dd",
   "metadata": {},
   "source": [
    "<ul class=\"brand\"><li><a href=\"http://www.hanbit.co.kr/media/\">한빛미디어\n",
    "</a></li><li><a href=\"http://www.hanbit.co.kr/academy/\">한빛아카데미\n",
    "</a></li></ul>"
   ]
  },
  {
   "cell_type": "code",
   "execution_count": null,
   "id": "24da551b",
   "metadata": {},
   "outputs": [],
   "source": [
    "title = soup.find(id=\"title\")\n",
    "title"
   ]
  },
  {
   "cell_type": "markdown",
   "id": "7364d9fc",
   "metadata": {},
   "source": [
    "<h1 id=\"title\">한빛출판네트워크</h1>"
   ]
  },
  {
   "cell_type": "code",
   "execution_count": null,
   "id": "3d708131",
   "metadata": {},
   "outputs": [],
   "source": [
    "title.string"
   ]
  },
  {
   "cell_type": "markdown",
   "id": "b5408698",
   "metadata": {},
   "source": [
    "'한빛출판네트워크'"
   ]
  },
  {
   "cell_type": "code",
   "execution_count": null,
   "id": "6b576ea8",
   "metadata": {},
   "outputs": [],
   "source": [
    "li_list = soup.select(\"div>ul.brand>li\")\n",
    "li_list # 지정한 태그를 모두 파싱하여 리스트 구성 (태그#id 속성값 / 태그.class 속성값)\n",
    "# 최신 BS에서는 아래와 같이 출력되지 않을 수 있음"
   ]
  },
  {
   "cell_type": "markdown",
   "id": "22e48c6b",
   "metadata": {},
   "source": [
    "[<li><a href=\"http://www.hanbit.co.kr/media/\">한빛미디어\n",
    "</a></li>,<li><a href=\"http://www.hanbit.co.kr/academy/\">한빛아카데미</a></li>]"
   ]
  },
  {
   "cell_type": "code",
   "execution_count": null,
   "id": "62e58a6a",
   "metadata": {},
   "outputs": [],
   "source": [
    "for li in li_list:\n",
    "    print(li.string)"
   ]
  },
  {
   "cell_type": "markdown",
   "id": "2a0109e5",
   "metadata": {},
   "source": [
    "한빛미디어\n",
    "한빛아카데미"
   ]
  }
 ],
 "metadata": {
  "kernelspec": {
   "display_name": "Python 3",
   "language": "python",
   "name": "python3"
  },
  "language_info": {
   "name": "python",
   "version": "3.10.8"
  }
 },
 "nbformat": 4,
 "nbformat_minor": 5
}
